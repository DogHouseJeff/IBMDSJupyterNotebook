{
  "metadata": {
    "kernelspec": {
      "name": "python",
      "display_name": "Python (Pyodide)",
      "language": "python"
    },
    "language_info": {
      "codemirror_mode": {
        "name": "python",
        "version": 3
      },
      "file_extension": ".py",
      "mimetype": "text/x-python",
      "name": "python",
      "nbconvert_exporter": "python",
      "pygments_lexer": "ipython3",
      "version": "3.8"
    }
  },
  "nbformat_minor": 5,
  "nbformat": 4,
  "cells": [
    {
      "id": "b6b58b4d-98b4-4d09-aa39-c1d0709ca7a9",
      "cell_type": "markdown",
      "source": "# Data Science Tools and Ecosystem",
      "metadata": {}
    },
    {
      "id": "ecc580cb-350b-49e7-b3a0-d86e58784414",
      "cell_type": "markdown",
      "source": "In this notebook, Data Science Tools and Ecosystem are summarized.",
      "metadata": {}
    },
    {
      "id": "f39f074a-d6f4-4d3e-a91e-ed21d4e49cdd",
      "cell_type": "markdown",
      "source": "Some of the popular languages that Data Scientists use are:\n1. Python\n2. R\n3. Julia\n4. Scala\n5. SQL\n6. Java",
      "metadata": {}
    },
    {
      "id": "5ca4af2f-17aa-490e-ab66-3aa29a4557a0",
      "cell_type": "markdown",
      "source": "**Objectives:**\n- List popular languages for Data Science\n- List examples of arithmetic expression in Python\n- List commonly used libraries used by Data Scientists",
      "metadata": {}
    },
    {
      "id": "dcd55c53-53ce-4cd1-b248-5e79191ff837",
      "cell_type": "markdown",
      "source": "Some of the commonly used libraries used by Data Scientists include:\n1. Matplotlib\n2. pandas\n3. NumPy\n4. scikit-learn",
      "metadata": {}
    },
    {
      "id": "4e8b61c1-63f7-42c6-9883-f51ccd28e326",
      "cell_type": "markdown",
      "source": "Data Science Tools |\n| ------ |\n| Jupyter Notebook |\n| RStudio |\n| Apache Zeppelin |",
      "metadata": {}
    },
    {
      "id": "b4514daf-ca09-426d-87b6-3cce7be1da93",
      "cell_type": "markdown",
      "source": "### Below are a few examples of evaluating arithmetic expressions in Python",
      "metadata": {}
    },
    {
      "id": "52726e27-6eae-408b-94d0-405c3ed4692a",
      "cell_type": "code",
      "source": "# This a simple arithmetic expression to mutiply then add integers\n(3*4)+5",
      "metadata": {
        "trusted": true
      },
      "outputs": [
        {
          "execution_count": 4,
          "output_type": "execute_result",
          "data": {
            "text/plain": "17"
          },
          "metadata": {}
        }
      ],
      "execution_count": 5
    },
    {
      "id": "ec6c67b5-c166-47e5-9ec7-c62a0cb2607b",
      "cell_type": "code",
      "source": "# This will convert 200 minutes to hours by diving by 60\n200/60",
      "metadata": {
        "trusted": true
      },
      "outputs": [
        {
          "execution_count": 5,
          "output_type": "execute_result",
          "data": {
            "text/plain": "3.3333333333333335"
          },
          "metadata": {}
        }
      ],
      "execution_count": 6
    },
    {
      "id": "efa9b1a3-ef15-442f-9b4c-5891cceabed2",
      "cell_type": "markdown",
      "source": "## Author\nJeff Hutchison",
      "metadata": {}
    },
    {
      "id": "30b71895-ffb1-49e9-8ef8-d19b086e4d0f",
      "cell_type": "code",
      "source": "",
      "metadata": {
        "trusted": true
      },
      "outputs": [],
      "execution_count": null
    }
  ]
}